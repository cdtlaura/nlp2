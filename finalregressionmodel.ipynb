{
  "nbformat": 4,
  "nbformat_minor": 0,
  "metadata": {
    "colab": {
      "provenance": [],
      "authorship_tag": "ABX9TyNp9jy7L6MLKNDClOTH75ni",
      "include_colab_link": true
    },
    "kernelspec": {
      "name": "python3",
      "display_name": "Python 3"
    },
    "language_info": {
      "name": "python"
    }
  },
  "cells": [
    {
      "cell_type": "markdown",
      "metadata": {
        "id": "view-in-github",
        "colab_type": "text"
      },
      "source": [
        "<a href=\"https://colab.research.google.com/github/cdtlaura/nlp2/blob/main/finalregressionmodel.ipynb\" target=\"_parent\"><img src=\"https://colab.research.google.com/assets/colab-badge.svg\" alt=\"Open In Colab\"/></a>"
      ]
    },
    {
      "cell_type": "markdown",
      "source": [
        "Load and Explore the Dataset"
      ],
      "metadata": {
        "id": "UVHINoDxLu0I"
      }
    },
    {
      "cell_type": "code",
      "execution_count": null,
      "metadata": {
        "colab": {
          "base_uri": "https://localhost:8080/"
        },
        "id": "xQ_r8uh4w0La",
        "outputId": "32aa667e-4a01-41a7-effb-3b6bfb8cd173"
      },
      "outputs": [
        {
          "output_type": "stream",
          "name": "stdout",
          "text": [
            "   Hours Studied  Previous Scores Extracurricular Activities  Sleep Hours  \\\n",
            "0              7               99                        Yes            9   \n",
            "1              4               82                         No            4   \n",
            "2              8               51                        Yes            7   \n",
            "3              5               52                        Yes            5   \n",
            "4              7               75                         No            8   \n",
            "\n",
            "   Sample Question Papers Practiced  Performance Index  \n",
            "0                                 1               91.0  \n",
            "1                                 2               65.0  \n",
            "2                                 2               45.0  \n",
            "3                                 2               36.0  \n",
            "4                                 5               66.0  \n",
            "Index(['Hours Studied', 'Previous Scores', 'Extracurricular Activities',\n",
            "       'Sleep Hours', 'Sample Question Papers Practiced', 'Performance Index'],\n",
            "      dtype='object')\n"
          ]
        }
      ],
      "source": [
        "import pandas as pd\n",
        "import numpy as np\n",
        "from sklearn.preprocessing import LabelEncoder, StandardScaler\n",
        "from sklearn.model_selection import train_test_split\n",
        "from tensorflow.keras import Sequential\n",
        "from tensorflow.keras.layers import Dense\n",
        "\n",
        "# Load the dataset\n",
        "df = pd.read_csv('/content/Student_Performance.csv')\n",
        "\n",
        "# Display the first few rows of the dataset\n",
        "print(df.head())\n",
        "\n",
        "# Display the column names\n",
        "print(df.columns)"
      ]
    },
    {
      "cell_type": "markdown",
      "source": [
        "Preprocessing the Data"
      ],
      "metadata": {
        "id": "zczQthe-L4nL"
      }
    },
    {
      "cell_type": "markdown",
      "source": [
        "Handle Missing Values: We drop any rows with missing values for simplicity.\n",
        "Encode Categorical Features: We use pd.get_dummies() to convert categorical variables like Make, Model, and Transmission Type into numerical format.\n",
        "\n",
        "Feature Scaling: Since regression models benefit from having features on similar scales, we use StandardScaler to standardize the numerical features."
      ],
      "metadata": {
        "id": "h2DWa8RlLxYb"
      }
    },
    {
      "cell_type": "code",
      "source": [
        "# Handle missing values if necessary\n",
        "df = df.dropna()\n",
        "\n",
        "# Separate input features and target variable\n",
        "X = df.drop(columns=['Performance Index'])  # MSRP is the target column\n",
        "y = df['Performance Index']\n",
        "# Encode categorical features\n",
        "X_encoded = pd.get_dummies(X, drop_first=True)\n",
        "print(X_encoded.head())  # These columns will be the input for the model - predictions\n",
        "# Scale the numerical features\n",
        "scaler = StandardScaler()\n",
        "X_scaled = scaler.fit_transform(X_encoded)\n",
        "\n",
        "# Check the number of features\n",
        "n_features = X_scaled.shape[1]\n"
      ],
      "metadata": {
        "colab": {
          "base_uri": "https://localhost:8080/"
        },
        "id": "oOWoLjMVxMbs",
        "outputId": "6b562ae5-7323-455d-a31a-0ff82dfad0ad"
      },
      "execution_count": null,
      "outputs": [
        {
          "output_type": "stream",
          "name": "stdout",
          "text": [
            "   Hours Studied  Previous Scores  Sleep Hours  \\\n",
            "0              7               99            9   \n",
            "1              4               82            4   \n",
            "2              8               51            7   \n",
            "3              5               52            5   \n",
            "4              7               75            8   \n",
            "\n",
            "   Sample Question Papers Practiced  Extracurricular Activities_Yes  \n",
            "0                                 1                            True  \n",
            "1                                 2                           False  \n",
            "2                                 2                            True  \n",
            "3                                 2                            True  \n",
            "4                                 5                           False  \n"
          ]
        }
      ]
    },
    {
      "cell_type": "markdown",
      "source": [
        "Split the Data"
      ],
      "metadata": {
        "id": "hd1AkDWUL9Mr"
      }
    },
    {
      "cell_type": "code",
      "source": [
        "# Split into train and test datasets\n",
        "X_train, X_test, y_train, y_test = train_test_split(X_scaled, y, test_size=0.33, random_state=42)"
      ],
      "metadata": {
        "id": "Me48rGlYxSq7"
      },
      "execution_count": null,
      "outputs": []
    },
    {
      "cell_type": "markdown",
      "source": [
        "Define the Regression Model"
      ],
      "metadata": {
        "id": "NL2kYD6hL99W"
      }
    },
    {
      "cell_type": "markdown",
      "source": [
        "Hidden Layers: We use two hidden layers with 64 and 32 neurons, both using ReLU activation.\n",
        "\n",
        "Output Layer: The output layer has a single neuron to predict the car price (MSRP) with no activation function, which is typical for regression.\n",
        "\n",
        "Loss Function: For regression tasks, we use mean squared error (MSE) as the loss function, which measures the difference between predicted and actual values."
      ],
      "metadata": {
        "id": "OmD7Y7_LMB5t"
      }
    },
    {
      "cell_type": "code",
      "source": [
        "# Define the model\n",
        "model = Sequential()\n",
        "model.add(Dense(64, activation='relu', input_shape=(n_features,)))\n",
        "model.add(Dense(32, activation='relu'))\n",
        "model.add(Dense(1))  # Single output neuron for regression (predicting price)\n",
        "\n",
        "# Compile the model\n",
        "model.compile(optimizer='adam', loss='mean_squared_error')"
      ],
      "metadata": {
        "colab": {
          "base_uri": "https://localhost:8080/"
        },
        "id": "f5rdCEbyxYHV",
        "outputId": "d847ce0e-6b34-4e2c-d873-c5a2d5e08133"
      },
      "execution_count": null,
      "outputs": [
        {
          "output_type": "stream",
          "name": "stderr",
          "text": [
            "/usr/local/lib/python3.10/dist-packages/keras/src/layers/core/dense.py:87: UserWarning: Do not pass an `input_shape`/`input_dim` argument to a layer. When using Sequential models, prefer using an `Input(shape)` object as the first layer in the model instead.\n",
            "  super().__init__(activity_regularizer=activity_regularizer, **kwargs)\n"
          ]
        }
      ]
    },
    {
      "cell_type": "markdown",
      "source": [
        "Train the Model"
      ],
      "metadata": {
        "id": "z-zfGY0MMH7G"
      }
    },
    {
      "cell_type": "markdown",
      "source": [
        "The model will iterate over the training data 100 times, learning to minimize the mean squared error."
      ],
      "metadata": {
        "id": "3IAe3tAaMIqO"
      }
    },
    {
      "cell_type": "code",
      "source": [
        "# Train the model\n",
        "model.fit(X_train, y_train, epochs=100, batch_size=32, verbose=0)"
      ],
      "metadata": {
        "colab": {
          "base_uri": "https://localhost:8080/"
        },
        "id": "mIUS9becxZkl",
        "outputId": "98901f5f-e32b-46be-faaf-01dd4e564286"
      },
      "execution_count": null,
      "outputs": [
        {
          "output_type": "execute_result",
          "data": {
            "text/plain": [
              "<keras.src.callbacks.history.History at 0x78e97b4a1180>"
            ]
          },
          "metadata": {},
          "execution_count": 22
        }
      ]
    },
    {
      "cell_type": "markdown",
      "source": [
        "\n",
        "Evaluate the Model"
      ],
      "metadata": {
        "id": "-kYTiEsjMOyZ"
      }
    },
    {
      "cell_type": "markdown",
      "source": [
        "This will print the mean squared error on the test data, which indicates how well the model is performing at predicting"
      ],
      "metadata": {
        "id": "Cl_4RjyyMPuC"
      }
    },
    {
      "cell_type": "code",
      "source": [
        "# Evaluate the model\n",
        "loss = model.evaluate(X_test, y_test, verbose=0)\n",
        "print('Test Mean Squared Error: %.2f' % loss)"
      ],
      "metadata": {
        "colab": {
          "base_uri": "https://localhost:8080/"
        },
        "id": "g9YPoLyMxjVC",
        "outputId": "02943fb1-c8df-476a-c878-fe78ceefffa2"
      },
      "execution_count": null,
      "outputs": [
        {
          "output_type": "stream",
          "name": "stdout",
          "text": [
            "Test Mean Squared Error: 4.41\n"
          ]
        }
      ]
    },
    {
      "cell_type": "markdown",
      "source": [
        "Make Predictions"
      ],
      "metadata": {
        "id": "CkqMVwVjMVvc"
      }
    },
    {
      "cell_type": "code",
      "source": [
        "# Create a sample input with all necessary features\n",
        "# Make sure the sample matches the structure of X_encoded (use the same columns)\n",
        "sample = pd.DataFrame({\n",
        "    'Hours Studied': [7],\n",
        "    'Previous Scores': [99],\n",
        "    'Extracurricular Activities': [1],\n",
        "    'Sleep Hours': [9],\n",
        "    'Sample Question Papers Practiced': [2],\n",
        "})\n",
        "\n",
        "# Ensure the columns align with the training data (if columns differ, fill in missing ones with 0)\n",
        "sample = sample.reindex(columns=X_encoded.columns, fill_value=0)\n",
        "\n",
        "# Scale the sample data\n",
        "sample_scaled = scaler.transform(sample)\n",
        "\n",
        "# Predict the MSRP for the new car\n",
        "prediction = model.predict(sample_scaled)\n",
        "print('Predicted Performance Index: %.2f' % prediction[0])"
      ],
      "metadata": {
        "colab": {
          "base_uri": "https://localhost:8080/"
        },
        "id": "-0ea0asq0s2b",
        "outputId": "69670928-49ac-4868-c515-3449037df8b9"
      },
      "execution_count": null,
      "outputs": [
        {
          "output_type": "stream",
          "name": "stdout",
          "text": [
            "\u001b[1m1/1\u001b[0m \u001b[32m━━━━━━━━━━━━━━━━━━━━\u001b[0m\u001b[37m\u001b[0m \u001b[1m0s\u001b[0m 18ms/step\n",
            "Predicted Performance Index: 91.16\n"
          ]
        },
        {
          "output_type": "stream",
          "name": "stderr",
          "text": [
            "<ipython-input-26-f3614ca42074>:21: DeprecationWarning: Conversion of an array with ndim > 0 to a scalar is deprecated, and will error in future. Ensure you extract a single element from your array before performing this operation. (Deprecated NumPy 1.25.)\n",
            "  print('Predicted Performance Index: %.2f' % prediction[0])\n"
          ]
        }
      ]
    },
    {
      "cell_type": "markdown",
      "source": [
        "Aha! (New Things Learned)\n",
        "\n",
        "While I had prior experience with binary classification and regression, this assignment introduced me to new techniques and insights, especially in multiclass classification. A significant “aha!” moment was not only in implementing a multiclass classification model but also in learning how to interpret its results thoroughly and make necessary adjustments to improve accuracy. In particular, I discovered that modifying the structure of a neural network, such as increasing the number of layers, can enhance model accuracy. This hands-on experience in tweaking model architecture gave me a clearer understanding of how each component contributes to performance.\n",
        "\n",
        "Huh? (Confusions)\n",
        "\n",
        "Building the model posed several challenges, particularly when it came to finding the right balance in model architecture. For example, I found it confusing at times to determine how many layers and neurons to include in the neural network for the multiclass classification model. The trial-and-error process required to achieve an optimal configuration was time-consuming, and interpreting the impact of each change wasn’t straightforward. Additionally, while tuning the model, I occasionally encountered issues in understanding why certain adjustments didn’t yield expected improvements, which led to some confusion around the relationship between model complexity and performance.\n",
        "\n",
        "Cool!\n",
        "\n",
        "One of the most exciting parts of the project was seeing how adjusting the neural network’s structure directly impacted model accuracy. It was particularly rewarding to increase the number of layers in the multiclass model and observe a tangible improvement in performance. This felt empowering, as I could use my understanding of neural networks to make practical adjustments that enhanced the model’s predictive power. Knowing that these small changes had a measurable effect was motivating and validated the effort I put into fine-tuning the model.\n",
        "\n",
        "Gotcha! (Changed Perspective)\n",
        "\n",
        "Before this assignment, I viewed model building as a somewhat rigid process, where once a model type was chosen, the primary focus was just running it on data. This assignment shifted my perspective by showing me how much flexibility and control I have within each model, especially with neural networks, where the architecture itself can be fine-tuned to yield better results. This experience made me appreciate the iterative nature of model building and emphasized the importance of making deliberate choices in tuning model parameters and architecture, rather than relying on a one-size-fits-all approach.\n",
        "\n",
        "Summary\n",
        "\n",
        "Overall, this assignment taught me valuable lessons in multiclass classification and model fine-tuning. I’ve not only strengthened my understanding of binary classification and regression but have also developed skills in interpreting complex model results and making architectural adjustments to optimize performance. Applying these techniques in the future will allow me to adapt models to meet the specific requirements of each project. This experience has enhanced my ability to approach machine learning tasks more systematically, with a keen focus on model structure and performance tuning for improved outcomes."
      ],
      "metadata": {
        "id": "NaIOV3Sy8Gyc"
      }
    }
  ]
}