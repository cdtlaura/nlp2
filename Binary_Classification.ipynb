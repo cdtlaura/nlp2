{
  "nbformat": 4,
  "nbformat_minor": 0,
  "metadata": {
    "colab": {
      "provenance": [],
      "authorship_tag": "ABX9TyMaVwP9vrWX8M71JCig2sSD",
      "include_colab_link": true
    },
    "kernelspec": {
      "name": "python3",
      "display_name": "Python 3"
    },
    "language_info": {
      "name": "python"
    }
  },
  "cells": [
    {
      "cell_type": "markdown",
      "metadata": {
        "id": "view-in-github",
        "colab_type": "text"
      },
      "source": [
        "<a href=\"https://colab.research.google.com/github/cdtlaura/nlp2/blob/main/Binary_Classification.ipynb\" target=\"_parent\"><img src=\"https://colab.research.google.com/assets/colab-badge.svg\" alt=\"Open In Colab\"/></a>"
      ]
    },
    {
      "cell_type": "markdown",
      "source": [
        " Explore and Preprocess the Data"
      ],
      "metadata": {
        "id": "B-hXc-3Ezcdf"
      }
    },
    {
      "cell_type": "code",
      "execution_count": null,
      "metadata": {
        "colab": {
          "base_uri": "https://localhost:8080/"
        },
        "id": "Q6Jo6Nbjx-vq",
        "outputId": "e6cbfa35-d42a-444b-ec5a-c564bff6b31a"
      },
      "outputs": [
        {
          "output_type": "stream",
          "name": "stdout",
          "text": [
            "    Area  MajorAxisLength  MinorAxisLength  Eccentricity  ConvexArea  \\\n",
            "0  87524       442.246011       253.291155      0.819738       90546   \n",
            "1  75166       406.690687       243.032436      0.801805       78789   \n",
            "2  90856       442.267048       266.328318      0.798354       93717   \n",
            "3  45928       286.540559       208.760042      0.684989       47336   \n",
            "4  79408       352.190770       290.827533      0.564011       81463   \n",
            "\n",
            "     Extent  Perimeter    Class  \n",
            "0  0.758651   1184.040  Kecimen  \n",
            "1  0.684130   1121.786  Kecimen  \n",
            "2  0.637613   1208.575  Kecimen  \n",
            "3  0.699599    844.162  Kecimen  \n",
            "4  0.792772   1073.251  Kecimen  \n",
            "Index(['Area', 'MajorAxisLength', 'MinorAxisLength', 'Eccentricity',\n",
            "       'ConvexArea', 'Extent', 'Perimeter', 'Class'],\n",
            "      dtype='object')\n"
          ]
        }
      ],
      "source": [
        "import pandas as pd\n",
        "\n",
        "# Load the dataset\n",
        "df = pd.read_csv('/content/Raisin_Dataset.csv')\n",
        "\n",
        "# Display the first few rows of the dataset\n",
        "print(df.head())\n",
        "\n",
        "# Display the column names\n",
        "print(df.columns)"
      ]
    },
    {
      "cell_type": "markdown",
      "source": [
        "Convert the categorical variables into numerical format"
      ],
      "metadata": {
        "id": "6c8ImTSDz0Yw"
      }
    },
    {
      "cell_type": "code",
      "source": [
        "import pandas as pd\n",
        "from sklearn.preprocessing import LabelEncoder\n",
        "\n",
        "# Handle missing values if necessary\n",
        "df = df.dropna()\n",
        "\n",
        "# Separate input features and target variable\n",
        "X = df.drop(columns=['Class'])  # 'class' is your target column\n",
        "y = df['Class'].values\n",
        "\n",
        "# Encode the categorical features in X\n",
        "X = pd.get_dummies(X, drop_first=True)\n",
        "\n",
        "# Encode the binary target variable y\n",
        "label_encoder = LabelEncoder()\n",
        "y = label_encoder.fit_transform(y)  # use this for binary classification\n",
        "\n",
        "n_features = X.shape[1]\n",
        "# y will now be 0 for one class (e.g., 'good') and 1 for the other class (e.g., 'bad')\n"
      ],
      "metadata": {
        "id": "S-x4Pyi2zZG4"
      },
      "execution_count": null,
      "outputs": []
    },
    {
      "cell_type": "markdown",
      "source": [
        "Split the Data"
      ],
      "metadata": {
        "id": "W4y718Ev0C-G"
      }
    },
    {
      "cell_type": "code",
      "source": [
        "from sklearn.model_selection import train_test_split\n",
        "from sklearn.preprocessing import LabelEncoder\n",
        "\n",
        "# Split into train and test datasets\n",
        "X_train, X_test, y_train, y_test = train_test_split(X, y, test_size=0.33, random_state=42)\n"
      ],
      "metadata": {
        "id": "5Bm1ifch0B5l"
      },
      "execution_count": null,
      "outputs": []
    },
    {
      "cell_type": "markdown",
      "source": [
        "Define and Compile the Model"
      ],
      "metadata": {
        "id": "iKJf5C200JeP"
      }
    },
    {
      "cell_type": "code",
      "source": [
        "from tensorflow.keras import Sequential\n",
        "from tensorflow.keras.layers import Dense\n",
        "\n",
        "# Define the model\n",
        "model = Sequential()\n",
        "model.add(Dense(10, activation='relu', input_shape=(n_features,)))\n",
        "model.add(Dense(8, activation='relu'))\n",
        "model.add(Dense(1, activation='sigmoid'))\n",
        "\n",
        "# Compile the model\n",
        "model.compile(optimizer='adam', loss='binary_crossentropy', metrics=['accuracy'])"
      ],
      "metadata": {
        "colab": {
          "base_uri": "https://localhost:8080/"
        },
        "id": "dxiaQGvb0Ka8",
        "outputId": "011430b5-8a10-412c-b11a-4f1b06a28fd8"
      },
      "execution_count": null,
      "outputs": [
        {
          "output_type": "stream",
          "name": "stderr",
          "text": [
            "/usr/local/lib/python3.10/dist-packages/keras/src/layers/core/dense.py:87: UserWarning: Do not pass an `input_shape`/`input_dim` argument to a layer. When using Sequential models, prefer using an `Input(shape)` object as the first layer in the model instead.\n",
            "  super().__init__(activity_regularizer=activity_regularizer, **kwargs)\n"
          ]
        }
      ]
    },
    {
      "cell_type": "markdown",
      "source": [
        "‘binary_crossentropy‘ for binary classification\n",
        "\n",
        "‘sparse_categorical_crossentropy‘ for multi-class classification\n",
        "\n",
        "‘mse‘ (mean squared error) for regression"
      ],
      "metadata": {
        "id": "qLak4-qM959H"
      }
    },
    {
      "cell_type": "markdown",
      "source": [
        "Fit the Model"
      ],
      "metadata": {
        "id": "ie7D5f-O_iCG"
      }
    },
    {
      "cell_type": "code",
      "source": [
        "model.fit(X_train, y_train, epochs=150, batch_size=32, verbose=0)"
      ],
      "metadata": {
        "colab": {
          "base_uri": "https://localhost:8080/"
        },
        "id": "7YD6Zf8O97SR",
        "outputId": "2addaf1d-8172-4a76-b1e1-e65a301881f6"
      },
      "execution_count": null,
      "outputs": [
        {
          "output_type": "execute_result",
          "data": {
            "text/plain": [
              "<keras.src.callbacks.history.History at 0x7e8eeb5e9810>"
            ]
          },
          "metadata": {},
          "execution_count": 5
        }
      ]
    },
    {
      "cell_type": "markdown",
      "source": [
        "Evaluate the Model\n"
      ],
      "metadata": {
        "id": "zxkJXTgU_wzK"
      }
    },
    {
      "cell_type": "code",
      "source": [
        "loss, acc = model.evaluate(X_test, y_test, verbose=0)\n",
        "print('Test Accuracy: %.3f' % acc)"
      ],
      "metadata": {
        "colab": {
          "base_uri": "https://localhost:8080/"
        },
        "id": "6we9omR4_cJ0",
        "outputId": "2f0decc5-a8ff-4a4c-a55a-f18116e28d99"
      },
      "execution_count": null,
      "outputs": [
        {
          "output_type": "stream",
          "name": "stdout",
          "text": [
            "Test Accuracy: 0.848\n"
          ]
        }
      ]
    },
    {
      "cell_type": "markdown",
      "source": [
        "Make Predictions"
      ],
      "metadata": {
        "id": "RUc6nGrsAK3r"
      }
    },
    {
      "cell_type": "code",
      "source": [
        "import numpy as np\n",
        "\n",
        "# Constructing the input row\n",
        "row = np.array([\n",
        "    87524 ,  # 'Area'\n",
        "    442.246011,  # 'MajorAxisLength'\n",
        "    253.291155,  # 'MinorAxisLength'\n",
        "    0.819738,  # 'Eccentricity'\n",
        "    90546 ,  # 'ConvexArea'\n",
        "    0.758651,  # 'Extent'\n",
        "    1184.040,  # 'Perimeter'\n",
        "\n",
        "]).reshape(1, -1)\n",
        "\n",
        "# Make the prediction\n",
        "yhat = model.predict(row)\n",
        "print('Predicted: %.3f' % yhat[0][0])"
      ],
      "metadata": {
        "colab": {
          "base_uri": "https://localhost:8080/"
        },
        "id": "3v5_xI4SBv2N",
        "outputId": "468bc31c-c112-478a-b764-db1d685ffbb3"
      },
      "execution_count": null,
      "outputs": [
        {
          "output_type": "stream",
          "name": "stdout",
          "text": [
            "\u001b[1m1/1\u001b[0m \u001b[32m━━━━━━━━━━━━━━━━━━━━\u001b[0m\u001b[37m\u001b[0m \u001b[1m0s\u001b[0m 67ms/step\n",
            "Predicted: 0.004\n"
          ]
        }
      ]
    },
    {
      "cell_type": "markdown",
      "source": [
        "If yhat is close to 1: The model predicts the raisin class is Besni\n",
        "\n",
        "If yhat is close to 0: The model predicts the raisin class is Kecimen\n"
      ],
      "metadata": {
        "id": "dloxeEoOEUA2"
      }
    },
    {
      "cell_type": "code",
      "source": [
        "import numpy as np\n",
        "\n",
        "# Constructing the input row\n",
        "row = np.array([\n",
        "    85609,  # 'Area'\n",
        "    512.0817743,  # 'MajorAxisLength'\n",
        "    215.2719758,  # 'MinorAxisLength'\n",
        "    0.907345395,  # 'Eccentricity'\n",
        "    89197,  # 'ConvexArea'\n",
        "    0.632019963,  # 'Extent'\n",
        "    1272.862,  # 'Perimeter'\n",
        "\n",
        "]).reshape(1, -1)\n",
        "\n",
        "# Make the prediction\n",
        "yhat = model.predict(row)\n",
        "print('Predicted: %.3f' % yhat[0][0])"
      ],
      "metadata": {
        "colab": {
          "base_uri": "https://localhost:8080/"
        },
        "id": "7HUJkr4h1RBJ",
        "outputId": "5431af82-19dd-44fe-d6b0-5fb1c60d9134"
      },
      "execution_count": null,
      "outputs": [
        {
          "output_type": "stream",
          "name": "stdout",
          "text": [
            "\u001b[1m1/1\u001b[0m \u001b[32m━━━━━━━━━━━━━━━━━━━━\u001b[0m\u001b[37m\u001b[0m \u001b[1m0s\u001b[0m 28ms/step\n",
            "Predicted: 1.000\n"
          ]
        }
      ]
    }
  ]
}